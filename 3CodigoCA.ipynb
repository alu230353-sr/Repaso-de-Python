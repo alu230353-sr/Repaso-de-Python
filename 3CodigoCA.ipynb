{
  "nbformat": 4,
  "nbformat_minor": 0,
  "metadata": {
    "colab": {
      "provenance": [],
      "authorship_tag": "ABX9TyOhgUYeyHN7s6vlUSs7pL7p",
      "include_colab_link": true
    },
    "kernelspec": {
      "name": "python3",
      "display_name": "Python 3"
    },
    "language_info": {
      "name": "python"
    }
  },
  "cells": [
    {
      "cell_type": "markdown",
      "metadata": {
        "id": "view-in-github",
        "colab_type": "text"
      },
      "source": [
        "<a href=\"https://colab.research.google.com/github/alu230353-sr/Repaso-de-Python/blob/main/3CodigoCA.ipynb\" target=\"_parent\"><img src=\"https://colab.research.google.com/assets/colab-badge.svg\" alt=\"Open In Colab\"/></a>"
      ]
    },
    {
      "cell_type": "code",
      "execution_count": null,
      "metadata": {
        "id": "nAnKVPMh_OmX"
      },
      "outputs": [],
      "source": []
    },
    {
      "cell_type": "markdown",
      "source": [
        " Realizar un programa en python que te permita capturar 3 números enteros e imprima cual de los 3 es el mayor\n",
        ""
      ],
      "metadata": {
        "id": "A8J9XYyR_WEx"
      }
    },
    {
      "cell_type": "code",
      "source": [
        "num1=int(input(\"ingresa el primer numero: \"))\n",
        "num2=int(input(\"ingresa el segundo numero: \"))\n",
        "num3=int(input(\"ingresa el tercer numero: \"))\n",
        "\n",
        "if num1 > num2 and num1 > num3:\n",
        "  print(\"el numero mayor es: \", num1)\n",
        "if num2 > num1 and num2 > num3:\n",
        "  print(\"el numero mayor es: \", num2)\n",
        "if num3 > num2 and num3 > num1:\n",
        "  print(\"el numero mayor es: \", num3)\n",
        "\n",
        "\n"
      ],
      "metadata": {
        "colab": {
          "base_uri": "https://localhost:8080/"
        },
        "id": "Z93Bcvmz_j8Q",
        "outputId": "dc430823-e2ca-4216-dc6f-bb97c6e4f1ec"
      },
      "execution_count": 3,
      "outputs": [
        {
          "output_type": "stream",
          "name": "stdout",
          "text": [
            "ingresa el primer numero: 5\n",
            "ingresa el segundo numero: 7\n",
            "ingresa el tercer numero: 3\n",
            "el numero mayor es:  7\n"
          ]
        }
      ]
    },
    {
      "cell_type": "markdown",
      "source": [
        "Realizar un programa en python mediante el cual calcules el total de caracteres que tiene un nombre capturado desde el teclado."
      ],
      "metadata": {
        "id": "Tm6NbBGMC-yW"
      }
    },
    {
      "cell_type": "code",
      "source": [
        "palabra = input(\"ingresa una palabra: \")\n",
        "caracteres = len(palabra)\n",
        "print(\"la palabra tiene\", caracteres, \"caracteres.\")"
      ],
      "metadata": {
        "colab": {
          "base_uri": "https://localhost:8080/"
        },
        "id": "zPf9SjtvDAgt",
        "outputId": "b2ae22e6-d16f-4636-8f75-30dba4165c29"
      },
      "execution_count": 4,
      "outputs": [
        {
          "output_type": "stream",
          "name": "stdout",
          "text": [
            "ingresa una palabra: demonios\n",
            "la palabra tiene 8 caracteres.\n"
          ]
        }
      ]
    },
    {
      "cell_type": "markdown",
      "source": [
        " Realizar un programa en python que permita imprimir los 7 días de la semana.\n"
      ],
      "metadata": {
        "id": "wmB47t9kDl2k"
      }
    },
    {
      "cell_type": "code",
      "source": [
        "respuesta = input(\"presiona 0 para los dias de la semana y 2 para cerrar el programa: \")\n",
        "if respuesta == \"0\":\n",
        "  print(\"lunes\")\n",
        "  print(\"martes\")\n",
        "  print(\"miercoles\")\n",
        "  print(\"jueves\")\n",
        "  print(\"viernes\")\n",
        "  print(\"sabado\")\n",
        "  print(\"domingo\")\n",
        "\n",
        "\n",
        "else:\n",
        "  print(\"adios\")"
      ],
      "metadata": {
        "colab": {
          "base_uri": "https://localhost:8080/"
        },
        "id": "dELF6JT5DndD",
        "outputId": "24da9ca9-91b6-4bb1-871c-0bf9f40f9791"
      },
      "execution_count": 6,
      "outputs": [
        {
          "output_type": "stream",
          "name": "stdout",
          "text": [
            "presiona 0 para los dias de la semana y 2 para cerrar el programa: 0\n",
            "lunes\n",
            "martes\n",
            "miercoles\n",
            "jueves\n",
            "viernes\n",
            "sabado\n",
            "domingo\n"
          ]
        }
      ]
    }
  ]
}