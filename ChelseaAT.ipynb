{
  "nbformat": 4,
  "nbformat_minor": 0,
  "metadata": {
    "colab": {
      "provenance": [],
      "authorship_tag": "ABX9TyOXF8j1UZSa4DXIK4qgR3yJ",
      "include_colab_link": true
    },
    "kernelspec": {
      "name": "python3",
      "display_name": "Python 3"
    },
    "language_info": {
      "name": "python"
    }
  },
  "cells": [
    {
      "cell_type": "markdown",
      "metadata": {
        "id": "view-in-github",
        "colab_type": "text"
      },
      "source": [
        "<a href=\"https://colab.research.google.com/github/alu230353-sr/Repaso-de-Python/blob/main/ChelseaAT.ipynb\" target=\"_parent\"><img src=\"https://colab.research.google.com/assets/colab-badge.svg\" alt=\"Open In Colab\"/></a>"
      ]
    },
    {
      "cell_type": "markdown",
      "source": [
        "Realizar un programa que permita capturar tu nombre y lo imprima seguido de una bienvenida"
      ],
      "metadata": {
        "id": "sW--f_5b_ONA"
      }
    },
    {
      "cell_type": "code",
      "source": [
        "print (\"hola mundo\")"
      ],
      "metadata": {
        "colab": {
          "base_uri": "https://localhost:8080/"
        },
        "id": "v_NrPgJm_e4v",
        "outputId": "23064438-02b0-49c7-a4de-82f471cfaa4a"
      },
      "execution_count": 1,
      "outputs": [
        {
          "output_type": "stream",
          "name": "stdout",
          "text": [
            "hola mundo\n"
          ]
        }
      ]
    },
    {
      "cell_type": "markdown",
      "source": [],
      "metadata": {
        "id": "XatdNsxDBxO3"
      }
    },
    {
      "cell_type": "code",
      "execution_count": 6,
      "metadata": {
        "colab": {
          "base_uri": "https://localhost:8080/"
        },
        "id": "l8enXfFy-49Q",
        "outputId": "cf7c2df3-8cc3-4c44-9e01-6067d659fbf6"
      },
      "outputs": [
        {
          "output_type": "stream",
          "name": "stdout",
          "text": [
            "ingresa tu nombrechelsea alvarado\n",
            "tu nombre es chelsea alvarado bienvenida\n"
          ]
        }
      ],
      "source": [
        "\n",
        "nombre = input (\"ingresa tu nombre\")\n",
        "print(\"tu nombre es\", nombre, \"bienvenida\")\n"
      ]
    },
    {
      "cell_type": "markdown",
      "source": [
        "realiza un programa que permita capturar 2 numeros enteros e imprima la suma, la resta, la multiplicacion y la division entre ellos"
      ],
      "metadata": {
        "id": "eoarL8ltC7yz"
      }
    },
    {
      "cell_type": "code",
      "source": [
        "num1=int(input(\"captura un numero: \"))\n",
        "num2=int(input(\"captura un numero: \"))\n",
        "s=num1+num2\n",
        "r=num1-num2\n",
        "m=num1*num2\n",
        "d=num1/num2\n",
        "print(\"la suma es\",s)\n",
        "print(\"resta es\",r)\n",
        "print(\"la multiplicacion es\",m)\n",
        "print(\"la division es\",d)\n",
        "\n"
      ],
      "metadata": {
        "colab": {
          "base_uri": "https://localhost:8080/"
        },
        "id": "eta6qHOSDLnK",
        "outputId": "8ef4c9a5-2b63-4eaf-e989-8f285faaddf1"
      },
      "execution_count": 8,
      "outputs": [
        {
          "output_type": "stream",
          "name": "stdout",
          "text": [
            "captura un numero: 6\n",
            "captura un numero: 8\n",
            "la suma es 14\n",
            "resta es -2\n",
            "la multiplicacion es 48\n",
            "la division es 0.75\n"
          ]
        }
      ]
    }
  ]
}